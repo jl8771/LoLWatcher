{
 "cells": [
  {
   "cell_type": "markdown",
   "metadata": {},
   "source": [
    "# Import Libraries"
   ]
  },
  {
   "cell_type": "code",
   "execution_count": 1,
   "metadata": {},
   "outputs": [],
   "source": [
    "import os\n",
    "os.environ['TF_CPP_MIN_LOG_LEVEL'] = '2' \n",
    "import re\n",
    "import cv2\n",
    "import pickle\n",
    "import pytesseract\n",
    "import numpy as np\n",
    "import pandas as pd\n",
    "import matplotlib.pyplot as plt\n",
    "\n",
    "from mss import mss\n",
    "from tensorflow.keras.models import load_model"
   ]
  },
  {
   "cell_type": "markdown",
   "metadata": {},
   "source": [
    "# Setup"
   ]
  },
  {
   "cell_type": "markdown",
   "metadata": {},
   "source": [
    "### Set path to tesseract if not exported to `$PATH`"
   ]
  },
  {
   "cell_type": "code",
   "execution_count": 2,
   "metadata": {},
   "outputs": [],
   "source": [
    "path_to_tesseract = 'Your:\\\\Path\\\\To\\\\Tesseract\\\\exe'\n",
    "assert os.path.exists(path_to_tesseract)\n",
    "pytesseract.pytesseract.tesseract_cmd = path_to_tesseract"
   ]
  },
  {
   "cell_type": "markdown",
   "metadata": {},
   "source": [
    "### Ensure proper file structure, all files exist"
   ]
  },
  {
   "cell_type": "code",
   "execution_count": 3,
   "metadata": {},
   "outputs": [],
   "source": [
    "assert os.path.exists('./screenshots'), 'Screenshots folder does nto exist!'\n",
    "assert os.path.exists('./models'), 'Models folder does not exist!'\n",
    "assert os.path.exists('./models/LoLWatcher V2/saved_model.pb'), 'Model does not exist!'\n",
    "assert os.path.exists('./models/scaler.pkl'), 'Scaler does not exist!'\n",
    "assert os.path.exists('./models/pixel_coords.pkl'), 'Pixel coords does not exist!'\n",
    "assert os.path.exists('./models/champ_dict.pkl'), 'Champ dict does not exist!'"
   ]
  },
  {
   "cell_type": "markdown",
   "metadata": {},
   "source": [
    "### Set monitor to capture"
   ]
  },
  {
   "cell_type": "code",
   "execution_count": 4,
   "metadata": {},
   "outputs": [],
   "source": [
    "monitor = 2"
   ]
  },
  {
   "cell_type": "markdown",
   "metadata": {},
   "source": [
    "Run this cell below if you need to test which monitor number to use. If this cell displays the intended display, continue."
   ]
  },
  {
   "cell_type": "code",
   "execution_count": null,
   "metadata": {},
   "outputs": [],
   "source": [
    "#Monitor test, displays sample output to ensure correct monitor setting\n",
    "mss().shot(mon=monitor, output='./screenshots/monitor_test.png')\n",
    "plt.figure(figsize=(16,8))\n",
    "img = plt.imread('./screenshots/monitor_test.png')\n",
    "plt.imshow(img)\n",
    "plt.axis('off')\n",
    "os.remove('./screenshots/monitor_test.png')"
   ]
  },
  {
   "cell_type": "markdown",
   "metadata": {},
   "source": [
    "# Setup Draft"
   ]
  },
  {
   "cell_type": "markdown",
   "metadata": {},
   "source": [
    "### Manually enter champs:\n",
    "Drafted champions must be manually input into the list below. Most champions are simply their name as they appear in game (first letter capitalized).\n",
    "Ex. Annie, Olaf, Galio\n",
    "\n",
    "Some notable exceptions:\n",
    "1. Aurelion Sol > AurelionSol\n",
    "1. Bel'Veth > Belveth\n",
    "1. Cho'Gath > Chogath\n",
    "1. Dr. Mundo > DrMundo\n",
    "1. Jarvan IV > JarvanIV\n",
    "1. Kai'Sa > Kaisa\n",
    "1. K'Sante > KSante\n",
    "1. Kha'Zix > Khazix\n",
    "1. Kog'Maw > KogMaw\n",
    "1. LeBlanc > Leblanc\n",
    "1. Lee Sin > LeeSin\n",
    "1. Master Yi > MasterYi\n",
    "1. Miss Fortune > MissFortune\n",
    "1. Nunu & Willump > Nunu\n",
    "1. Rek'Sai > RekSai\n",
    "1. Renata Glasc > Renata\n",
    "1. Tahm Kench > TahmKench\n",
    "1. Twisted Fate > TwistedFate\n",
    "1. Vel'Koz > Velkoz\n",
    "1. Wukong > MonkeyKing\n",
    "1. Xin Zhao > XinZhao"
   ]
  },
  {
   "cell_type": "code",
   "execution_count": 6,
   "metadata": {},
   "outputs": [],
   "source": [
    "champ_draft_list = [\n",
    "    'Fiora', #Blue Top\n",
    "    'Poppy', #Blue Jungle\n",
    "    'Taliyah', #Blue Mid\n",
    "    'Zeri', #Blue AD\n",
    "    'Alistar', #Blue Support\n",
    "    'Gnar', #Red Top\n",
    "    'MonkeyKing', #Red Jungle\n",
    "    'Zilean', #Red Mid\n",
    "    'Sivir', #Red AD\n",
    "    'Lulu' #Red support\n",
    "]\n",
    "\n",
    "#Should be in order of blue top -> jungle -> mid -> ad -> support -> red top -> support"
   ]
  },
  {
   "cell_type": "markdown",
   "metadata": {},
   "source": [
    "### Variable initialization and helper functions\n",
    "Do not edit"
   ]
  },
  {
   "cell_type": "code",
   "execution_count": 7,
   "metadata": {},
   "outputs": [],
   "source": [
    "def reset_match_info():\n",
    "    \"\"\"Reset match_info dict start of game state, only champion ids will remain\n",
    "\n",
    "    Returns:\n",
    "        dict: match_info with cleared state\n",
    "    \"\"\"\n",
    "    return {\n",
    "    'timer': 0,\n",
    "    'blue_team_barons': 0,\n",
    "    'red_team_barons': 0,\n",
    "    'blue_team_dragons': 0,\n",
    "    'red_team_dragons': 0,\n",
    "    'blue_team_kills': 0,\n",
    "    'red_team_kills': 0,\n",
    "    'blue_team_tower': 0,\n",
    "    'red_team_tower': 0,\n",
    "    'blue_team_first_tower': 0,\n",
    "    'red_team_first_tower': 0,\n",
    "    'player_0_champ': champ_id_list[0],\n",
    "    'player_0_cs': 0,\n",
    "    'player_0_k': 0,\n",
    "    'player_0_d': 0,\n",
    "    'player_0_a': 0,\n",
    "    'player_1_champ': champ_id_list[1],\n",
    "    'player_1_cs': 0,\n",
    "    'player_1_k': 0,\n",
    "    'player_1_d': 0,\n",
    "    'player_1_a': 0,\n",
    "    'player_2_champ': champ_id_list[2],\n",
    "    'player_2_cs': 0,\n",
    "    'player_2_k': 0,\n",
    "    'player_2_d': 0,\n",
    "    'player_2_a': 0,\n",
    "    'player_3_champ': champ_id_list[3],\n",
    "    'player_3_cs': 0,\n",
    "    'player_3_k': 0,\n",
    "    'player_3_d': 0,\n",
    "    'player_3_a': 0,\n",
    "    'player_4_champ': champ_id_list[4],\n",
    "    'player_4_cs': 0,\n",
    "    'player_4_k': 0,\n",
    "    'player_4_d': 0,\n",
    "    'player_4_a': 0,\n",
    "    'player_5_champ': champ_id_list[5],\n",
    "    'player_5_cs': 0,\n",
    "    'player_5_k': 0,\n",
    "    'player_5_d': 0,\n",
    "    'player_5_a': 0,\n",
    "    'player_6_champ': champ_id_list[6],\n",
    "    'player_6_cs': 0,\n",
    "    'player_6_k': 0,\n",
    "    'player_6_d': 0,\n",
    "    'player_6_a': 0,\n",
    "    'player_7_champ': champ_id_list[7],\n",
    "    'player_7_cs': 0,\n",
    "    'player_7_k': 0,\n",
    "    'player_7_d': 0,\n",
    "    'player_7_a': 0,\n",
    "    'player_8_champ': champ_id_list[8],\n",
    "    'player_8_cs': 0,\n",
    "    'player_8_k': 0,\n",
    "    'player_8_d': 0,\n",
    "    'player_8_a': 0,\n",
    "    'player_9_champ': champ_id_list[9],\n",
    "    'player_9_cs': 0,\n",
    "    'player_9_k': 0,\n",
    "    'player_9_d': 0,\n",
    "    'player_9_a': 0,\n",
    "    'blue_team_gold': 0,\n",
    "    'red_team_gold': 0,\n",
    "    }\n",
    "    \n",
    "def reset_df():\n",
    "    \"\"\"Reset df for game tracking, removes all game data while preserving columns\n",
    "\n",
    "    Returns:\n",
    "        DataFrame: Pandas DataFrame with appropriate columns and no data\n",
    "    \"\"\"\n",
    "    return pd.DataFrame(columns=reset_match_info().keys())\n",
    "\n",
    "#Set Tesseract OCR Config\n",
    "config = '-l eng --psm 7 --oem 1'\n",
    "\n",
    "#Unpickle dict for converting champ name to id\n",
    "with open('./models/champ_dict.pkl', 'rb') as f:\n",
    "    champ_dict = pickle.load(f)\n",
    "\n",
    "#Unpickle dict for converting graphics package coordinates for specific information\n",
    "with open('./models/pixel_coords.pkl', 'rb') as f:\n",
    "    pixel_coords = pickle.load(f)\n",
    "\n",
    "#Unpickle sci-kit StandardScaler for scaling data\n",
    "with open('./models/scaler.pkl', 'rb') as f:\n",
    "        scaler = pickle.load(f)\n",
    "        \n",
    "#Load predictive TensorFlow model\n",
    "model = load_model('./models/LoLWatcher V2')\n",
    "\n",
    "#Convert champ names list to champ ids list\n",
    "champ_id_list = [champ_dict[x] for x in champ_draft_list]\n",
    "\n",
    "#Reset predictions list\n",
    "predictions = []\n",
    "\n",
    "#Reset tracking DataFrame df and match_info\n",
    "df = reset_df()\n",
    "match_info = reset_match_info()"
   ]
  },
  {
   "cell_type": "markdown",
   "metadata": {},
   "source": [
    "# Output\n",
    "\n",
    "Run this cell with the game running on the desired monitor.\n",
    "Cell operation can be interrupted to stop the process."
   ]
  },
  {
   "cell_type": "code",
   "execution_count": 11,
   "metadata": {},
   "outputs": [
    {
     "name": "stdout",
     "output_type": "stream",
     "text": [
      "Prediction Ended                                                           \n"
     ]
    }
   ],
   "source": [
    "try: #Prevent KeyboardInterrupt error log when stopping cell\n",
    "    while (True):\n",
    "        #Screenshot specified monitor\n",
    "        mss().shot(mon=monitor, output='./screenshots/current.png')\n",
    "        #Read image using openCV, resize to 1920x1080 resolution for pixel mapping\n",
    "        img = cv2.imread('./screenshots/current.png')\n",
    "        img = cv2.resize(img, (1920, 1080))\n",
    "        #Iterate through known locations for text\n",
    "        for key, value in pixel_coords.items():\n",
    "            #Crop image to specific location\n",
    "            cropped = img[value[0]:value[1], value[2]:value[3]]\n",
    "            if 'kda' in key:\n",
    "                #Parse text, apply regex filter for numeric values in k/d/a format\n",
    "                text = re.findall(r'(?:\\d{1,2}/){2}(?:\\d{1,2})', pytesseract.pytesseract.image_to_string(cropped, config=config))\n",
    "                if (len(text) > 0): #If specific text detected, set k,d,a columns\n",
    "                    text = text[0].split('/')\n",
    "                    match_info[key[:-4] + '_k'] = text[0]\n",
    "                    match_info[key[:-4] + '_d'] = text[1]\n",
    "                    match_info[key[:-4] + '_a'] = text[2]\n",
    "            elif 'cs' in key or 'kills' in key:\n",
    "                #Parse text, apply regex filter for numeric values\n",
    "                text = re.findall(r'\\d+', pytesseract.pytesseract.image_to_string(cropped, config=config))\n",
    "                if (len(text) > 0): #If numerical, set cs columns\n",
    "                    match_info[key] = text[0]\n",
    "            elif 'gold' in key:\n",
    "                #Parse text, apply regex filter for numeric values\n",
    "                gold = re.findall(r'\\d+', pytesseract.pytesseract.image_to_string(cropped, config=config))\n",
    "                if (len(gold) > 1): #If numeric and thousands and hundreds digits are read correctly, set gold columns\n",
    "                    match_info[key] = int(gold[0]) * 1000 + int(gold[1]) * 100\n",
    "            elif 'team_tower' in key:\n",
    "                #Parse text, apply regex filter for numerical values\n",
    "                text = re.findall(r'\\d+', pytesseract.pytesseract.image_to_string(cropped, config=config))\n",
    "                if len(text) > 0: #If numeric, set number of towers taken\n",
    "                    match_info[key] = text[0]\n",
    "            elif 'timer' in key:\n",
    "                #Parse text, preserve unformatted time in mm:ss format for output\n",
    "                game_time = pytesseract.pytesseract.image_to_string(cropped, config=config).strip()\n",
    "                #Parse text, apply regex filter for numeric values\n",
    "                timer = re.findall(r'\\d+', pytesseract.pytesseract.image_to_string(cropped, config=config))\n",
    "                #Convert to int type\n",
    "                timer = [int(x) for x in timer]\n",
    "                if len(timer) > 1: #If minutes and seconds detected, convert to seconds\n",
    "                    match_info[key] = timer[0] * 60 + timer[1]\n",
    "            \n",
    "        #Parse objective text in center of screen\n",
    "        objective = pytesseract.pytesseract.image_to_string(img[200:270, 400:1520], config=config).lower()\n",
    "        #If a team name is detected in objective text, find the appropriate counter and increment\n",
    "        if 'blue' in objective:\n",
    "            if 'baron' in objective:\n",
    "                match_info['blue_team_barons'] += 1\n",
    "            elif 'dragon' in objective:\n",
    "                match_info['blue_team_dragons'] += 1\n",
    "            elif 'first' in objective and 'turret' in objective:\n",
    "                match_info['blue_team_first_tower'] += 1\n",
    "        elif 'red' in objective:\n",
    "            if 'baron' in objective:\n",
    "                match_info['red_team_barons'] += 1\n",
    "            elif 'dragon' in objective:\n",
    "                match_info['red_team_dragons'] += 1\n",
    "            elif 'first' in objective and 'turret' in objective:\n",
    "                match_info['red_team_first_tower'] += 1\n",
    "                \n",
    "        #Append the current info from the screenshot to the tracking DataFrame df\n",
    "        temp = pd.DataFrame.from_dict([match_info])\n",
    "        df = pd.concat([df, temp], ignore_index=True)\n",
    "        \n",
    "        #Make a copy of the tracking DataFrame df and take the last row\n",
    "        X = df.copy()\n",
    "        X = X.tail(1)\n",
    "        #Scale the copy using the pre-fitted StandardScaler\n",
    "        X = scaler.transform(X)\n",
    "\n",
    "        #Make a prediction using the model, convert to percentage value\n",
    "        prediction = model.predict(X, verbose=0)[0][0] * 100\n",
    "        #Append prediction to list of predictions\n",
    "        predictions.append(prediction)\n",
    "        #Print the prediction\n",
    "        print(' ' * 75, end='\\r')\n",
    "        print(f'At {game_time} in game, Blue side has a {prediction:.2f}% chance of  winning.', end='\\r')\n",
    "except KeyboardInterrupt:\n",
    "    #If run is stopped by interrupting kernel, print the final prediction\n",
    "    print(' ' * 75, end='\\r')\n",
    "    print(f'Prediction Ended, final prediction was {prediction:.2f}%.')"
   ]
  },
  {
   "cell_type": "markdown",
   "metadata": {},
   "source": [
    "(Model is red side favored, especially early)"
   ]
  },
  {
   "cell_type": "markdown",
   "metadata": {},
   "source": [
    "### Plot prediction over time\n",
    "\n",
    "Likely not fully accurate, high possibility of wrong/missing data."
   ]
  },
  {
   "cell_type": "code",
   "execution_count": null,
   "metadata": {},
   "outputs": [],
   "source": [
    "#Make a copy of the tracking DataFrame df\n",
    "df_graph = df.copy()\n",
    "#Insert the predictions\n",
    "df_graph.insert(1, 'prediction', pd.Series(predictions))\n",
    "#Take only the relevant X and y values\n",
    "df_graph = df_graph[['timer', 'prediction']]\n",
    "\n",
    "#Plot time vs prediction\n",
    "plt.figure(figsize=(20,10))\n",
    "plt.plot(df_graph['timer'], df_graph['prediction']);\n",
    "plt.xlabel('Timer (s)');\n",
    "plt.ylabel('Blue % Chance To Win');\n",
    "plt.ylim(0, 100);"
   ]
  }
 ],
 "metadata": {
  "kernelspec": {
   "display_name": "Python 3.10.8 64-bit (microsoft store)",
   "language": "python",
   "name": "python3"
  },
  "language_info": {
   "codemirror_mode": {
    "name": "ipython",
    "version": 3
   },
   "file_extension": ".py",
   "mimetype": "text/x-python",
   "name": "python",
   "nbconvert_exporter": "python",
   "pygments_lexer": "ipython3",
   "version": "3.10.8"
  },
  "orig_nbformat": 4,
  "vscode": {
   "interpreter": {
    "hash": "d1afd38e33051f7f0b6d1bfa4c297759d67c79cde33f4b25a646a40304c8f70c"
   }
  }
 },
 "nbformat": 4,
 "nbformat_minor": 2
}
